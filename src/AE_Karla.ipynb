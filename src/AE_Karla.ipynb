{
 "cells": [
  {
   "cell_type": "markdown",
   "metadata": {},
   "source": [
    "# Auto Encoder for LCH Olympics"
   ]
  },
  {
   "cell_type": "code",
   "execution_count": 1,
   "metadata": {},
   "outputs": [
    {
     "name": "stderr",
     "output_type": "stream",
     "text": [
      "/tmpscratch/ktamenar/.local/lib/python3.8/site-packages/tqdm/auto.py:22: TqdmWarning: IProgress not found. Please update jupyter and ipywidgets. See https://ipywidgets.readthedocs.io/en/stable/user_install.html\n",
      "  from .autonotebook import tqdm as notebook_tqdm\n"
     ]
    }
   ],
   "source": [
    "import torch \n",
    "import torch.nn as nn\n",
    "import torch.optim as optim\n",
    "import matplotlib.pyplot as plt\n",
    "from torch.utils.data import Dataset, DataLoader\n",
    "from torchvision.utils import save_image\n",
    "import torch.nn.functional as F\n",
    "from sklearn import metrics\n",
    "import numpy as np\n",
    "import colorsys\n",
    "import matplotlib\n",
    "from matplotlib.lines import Line2D\n",
    "from matplotlib.font_manager import FontProperties\n",
    "import pandas as pd\n",
    "#from pyjet import cluster,DTYPE_PTEPM\n",
    "import random\n"
   ]
  },
  {
   "cell_type": "code",
   "execution_count": 2,
   "metadata": {},
   "outputs": [
    {
     "data": {
      "text/plain": [
       "'cuda:0'"
      ]
     },
     "execution_count": 2,
     "metadata": {},
     "output_type": "execute_result"
    }
   ],
   "source": [
    "def get_device():\n",
    "    if torch.cuda.is_available():\n",
    "        device = 'cuda:0'\n",
    "    else:\n",
    "        device = 'cpu'\n",
    "    return device\n",
    "device = get_device()\n",
    "device"
   ]
  },
  {
   "cell_type": "code",
   "execution_count": 3,
   "metadata": {},
   "outputs": [],
   "source": [
    "torch.cuda.set_device(device)\n",
    "torch.cuda.empty_cache()"
   ]
  },
  {
   "cell_type": "code",
   "execution_count": 4,
   "metadata": {},
   "outputs": [],
   "source": [
    "#import os\n",
    "#os.environ[\"PYTORCH_CUDA_ALLOC_CONF\"] = \"max_split_size_mb:<512>\"\n",
    "#torch.backends.cuda.max_memory_split = 256"
   ]
  },
  {
   "cell_type": "code",
   "execution_count": 5,
   "metadata": {},
   "outputs": [],
   "source": [
    "#events= pd.read_hdf('events_LHCO2020_BlackBox1.h5')\n",
    "events= pd.read_hdf('events_1M.h5')"
   ]
  },
  {
   "cell_type": "code",
   "execution_count": 6,
   "metadata": {},
   "outputs": [
    {
     "data": {
      "text/plain": [
       "(1000000, 477)"
      ]
     },
     "execution_count": 6,
     "metadata": {},
     "output_type": "execute_result"
    }
   ],
   "source": [
    "#events = events.T\n",
    "np.shape(events)\n",
    "#events.head(10)"
   ]
  },
  {
   "cell_type": "code",
   "execution_count": 7,
   "metadata": {},
   "outputs": [
    {
     "name": "stdout",
     "output_type": "stream",
     "text": [
      "600000\n",
      "200000\n",
      "200000\n"
     ]
    }
   ],
   "source": [
    "#Separates de events into test, validation and training\n",
    "\n",
    "events_tra, events_val, events_tes = np.split(events, [int(.6*len(events)), int(.8*len(events))])\n",
    "\n",
    "print(len(events_tra))\n",
    "print(len(events_val))\n",
    "print(len(events_tes))"
   ]
  },
  {
   "cell_type": "code",
   "execution_count": 8,
   "metadata": {},
   "outputs": [],
   "source": [
    "#Autoencoder example \n",
    "\n",
    "class Autoencoder1(nn.Module):\n",
    "    def __init__(self):\n",
    "        super(Autoencoder1, self).__init__()\n",
    "        # encoder\n",
    "        \n",
    "        n1,n2,n3,n4,n5,n6 = 477, 400, 300, 200, 100, 50\n",
    "        \n",
    "        self.enc1 = nn.Linear(in_features= n1, out_features=n2)\n",
    "        self.enc2 = nn.Linear(in_features=n2, out_features=n3)\n",
    "        self.enc3 = nn.Linear(in_features=n3, out_features=n4)\n",
    "        self.enc4 = nn.Linear(in_features=n4, out_features=n5)\n",
    "        self.enc5 = nn.Linear(in_features=n5, out_features=n6)\n",
    "        # decoder \n",
    "        self.dec1 = nn.Linear(in_features=n6, out_features=n5)\n",
    "        self.dec2 = nn.Linear(in_features=n5, out_features=n4)\n",
    "        self.dec3 = nn.Linear(in_features=n4, out_features=n3)\n",
    "        self.dec4 = nn.Linear(in_features=n3, out_features=n2)\n",
    "        self.dec5 = nn.Linear(in_features=n2, out_features= n1)\n",
    "    def forward(self, x):\n",
    "        x = F.relu(self.enc1(x))\n",
    "        x = F.relu(self.enc2(x))\n",
    "        x = F.relu(self.enc3(x))\n",
    "        x = F.relu(self.enc4(x))\n",
    "        x = F.relu(self.enc5(x))\n",
    "        x = F.relu(self.dec1(x))\n",
    "        x = F.relu(self.dec2(x))\n",
    "        x = F.relu(self.dec3(x))\n",
    "        x = F.relu(self.dec4(x))\n",
    "        x = F.relu(self.dec5(x))\n",
    "        return x\n",
    "model = Autoencoder1()\n",
    "#print(model)"
   ]
  },
  {
   "cell_type": "code",
   "execution_count": 9,
   "metadata": {},
   "outputs": [
    {
     "name": "stdout",
     "output_type": "stream",
     "text": [
      "<torch.utils.data.dataloader.DataLoader object at 0x2b1075da3ca0>\n",
      "1172\n",
      "******************************\n",
      "<torch.utils.data.dataloader.DataLoader object at 0x2b1075da37c0>\n",
      "391\n",
      "********************************\n"
     ]
    },
    {
     "data": {
      "text/plain": [
       "torch.Tensor"
      ]
     },
     "execution_count": 9,
     "metadata": {},
     "output_type": "execute_result"
    }
   ],
   "source": [
    "model = model.cuda()\n",
    "\n",
    "optimizer = torch.optim.Adam(model.parameters(),\n",
    "        lr = 1e-3,\n",
    "        weight_decay = 1e-8)\n",
    "\n",
    "#optimizer = optim.Adam(model.parameters(), lr=0.001)\n",
    "\n",
    "criterion = nn.MSELoss()\n",
    "\n",
    "epochs = 100\n",
    "batch_size = 512\n",
    "\n",
    "#Events for training set\n",
    "\n",
    "train_losses = []\n",
    "\n",
    "trainset = torch.tensor(events_tra.values)\n",
    "trainset=trainset.to(torch.float32)\n",
    "#print(trainset.shape)\n",
    "\n",
    "\n",
    "trainloader = DataLoader(\n",
    "    dataset=trainset, \n",
    "    batch_size=batch_size,\n",
    "    shuffle=True,\n",
    ")\n",
    "print(trainloader)\n",
    "print(len(trainloader))\n",
    "\n",
    "print(\"******************************\")\n",
    "\n",
    "#Events for validation set\n",
    "\n",
    "val_losses = []\n",
    "\n",
    "valset = torch.tensor(events_val.values)\n",
    "valset=valset.to(torch.float32)\n",
    "\n",
    "valloader = DataLoader(\n",
    "    dataset = valset, \n",
    "    batch_size = batch_size,\n",
    "    shuffle = False,\n",
    ")\n",
    "\n",
    "print(valloader)\n",
    "print(len(valloader))\n",
    "print(\"********************************\")\n",
    "type(trainloader.dataset)\n",
    "type(valloader.dataset)"
   ]
  },
  {
   "cell_type": "code",
   "execution_count": 10,
   "metadata": {},
   "outputs": [],
   "source": [
    "yv=[]\n",
    "xv=[]\n",
    "xt=[]\n",
    "yt=[] \n",
    "\n",
    "def train(epoch):\n",
    "    model.train()\n",
    "    train_loss = 0\n",
    "    val_loss=0\n",
    "    \n",
    "    for data in trainloader:\n",
    "        data = data.cuda()\n",
    "        xt.append(data)         #input\n",
    "        optimizer.zero_grad()\n",
    "        y=model(data)  #output\n",
    "        yt.append(y)\n",
    "        loss = criterion(y, data) #comparision between input and target data(output)\n",
    "        loss.backward()\n",
    "        train_loss += loss.item()\n",
    "        optimizer.step()\n",
    "    #if epoch % 2 == 0:        \n",
    "    print('====> Epoch: {} Average_training_loss: {:.4f}'.format(\n",
    "    epoch, train_loss / len(trainloader.dataset)))\n",
    "    train_losses.append(train_loss / len(trainloader.dataset))\n",
    "    \n",
    "    \n",
    "    for data in valloader:\n",
    "        data = data.cuda()\n",
    "        xv.append(data)\n",
    "        optimizer.zero_grad()\n",
    "        y=model(data)\n",
    "        yv.append(y)\n",
    "        loss = criterion(y, data)\n",
    "        loss.backward()\n",
    "        val_loss += loss.item()\n",
    "        optimizer.step()\n",
    "        #avg_vloss = running_vloss / (i + 1)\n",
    "        #print('LOSS train {} valid {}'.format(avg_loss, avg_vloss))\n",
    "    print('====> Epoch: {} Average_validaition_loss: {:.4f}'.format(\n",
    "    epoch, val_loss / len(valloader.dataset)))\n",
    "    val_losses.append(val_loss / len(valloader.dataset))\n",
    "    print('*********************************************************')\n"
   ]
  },
  {
   "cell_type": "code",
   "execution_count": 11,
   "metadata": {},
   "outputs": [
    {
     "name": "stdout",
     "output_type": "stream",
     "text": [
      "====> Epoch: 1 Average_training_loss: 0.9983\n",
      "====> Epoch: 1 Average_validaition_loss: 0.2457\n",
      "*********************************************************\n",
      "====> Epoch: 2 Average_training_loss: 0.1958\n",
      "====> Epoch: 2 Average_validaition_loss: 0.1821\n",
      "*********************************************************\n",
      "====> Epoch: 3 Average_training_loss: 0.1769\n",
      "====> Epoch: 3 Average_validaition_loss: 0.1713\n",
      "*********************************************************\n",
      "====> Epoch: 4 Average_training_loss: 0.1656\n",
      "====> Epoch: 4 Average_validaition_loss: 0.1543\n",
      "*********************************************************\n",
      "====> Epoch: 5 Average_training_loss: 0.1506\n",
      "====> Epoch: 5 Average_validaition_loss: 0.1487\n",
      "*********************************************************\n",
      "====> Epoch: 6 Average_training_loss: 0.1467\n",
      "====> Epoch: 6 Average_validaition_loss: 0.1438\n",
      "*********************************************************\n",
      "====> Epoch: 7 Average_training_loss: 0.1402\n"
     ]
    },
    {
     "ename": "RuntimeError",
     "evalue": "CUDA out of memory. Tried to allocate 2.00 MiB (GPU 0; 22.16 GiB total capacity; 19.42 GiB already allocated; 1.88 MiB free; 20.85 GiB reserved in total by PyTorch) If reserved memory is >> allocated memory try setting max_split_size_mb to avoid fragmentation.  See documentation for Memory Management and PYTORCH_CUDA_ALLOC_CONF",
     "output_type": "error",
     "traceback": [
      "\u001b[0;31m---------------------------------------------------------------------------\u001b[0m",
      "\u001b[0;31mRuntimeError\u001b[0m                              Traceback (most recent call last)",
      "\u001b[0;32m/srv/ipykernel_128/658835443.py\u001b[0m in \u001b[0;36m<module>\u001b[0;34m\u001b[0m\n\u001b[1;32m      1\u001b[0m \u001b[0;32mfor\u001b[0m \u001b[0mepoch\u001b[0m \u001b[0;32min\u001b[0m \u001b[0mrange\u001b[0m\u001b[0;34m(\u001b[0m\u001b[0;36m1\u001b[0m\u001b[0;34m,\u001b[0m \u001b[0mepochs\u001b[0m \u001b[0;34m+\u001b[0m \u001b[0;36m1\u001b[0m\u001b[0;34m)\u001b[0m\u001b[0;34m:\u001b[0m\u001b[0;34m\u001b[0m\u001b[0;34m\u001b[0m\u001b[0m\n\u001b[0;32m----> 2\u001b[0;31m     \u001b[0mtrain\u001b[0m\u001b[0;34m(\u001b[0m\u001b[0mepoch\u001b[0m\u001b[0;34m)\u001b[0m\u001b[0;34m\u001b[0m\u001b[0;34m\u001b[0m\u001b[0m\n\u001b[0m",
      "\u001b[0;32m/srv/ipykernel_128/2326495107.py\u001b[0m in \u001b[0;36mtrain\u001b[0;34m(epoch)\u001b[0m\n\u001b[1;32m     32\u001b[0m         \u001b[0myv\u001b[0m\u001b[0;34m.\u001b[0m\u001b[0mappend\u001b[0m\u001b[0;34m(\u001b[0m\u001b[0my\u001b[0m\u001b[0;34m)\u001b[0m\u001b[0;34m\u001b[0m\u001b[0;34m\u001b[0m\u001b[0m\n\u001b[1;32m     33\u001b[0m         \u001b[0mloss\u001b[0m \u001b[0;34m=\u001b[0m \u001b[0mcriterion\u001b[0m\u001b[0;34m(\u001b[0m\u001b[0my\u001b[0m\u001b[0;34m,\u001b[0m \u001b[0mdata\u001b[0m\u001b[0;34m)\u001b[0m\u001b[0;34m\u001b[0m\u001b[0;34m\u001b[0m\u001b[0m\n\u001b[0;32m---> 34\u001b[0;31m         \u001b[0mloss\u001b[0m\u001b[0;34m.\u001b[0m\u001b[0mbackward\u001b[0m\u001b[0;34m(\u001b[0m\u001b[0;34m)\u001b[0m\u001b[0;34m\u001b[0m\u001b[0;34m\u001b[0m\u001b[0m\n\u001b[0m\u001b[1;32m     35\u001b[0m         \u001b[0mval_loss\u001b[0m \u001b[0;34m+=\u001b[0m \u001b[0mloss\u001b[0m\u001b[0;34m.\u001b[0m\u001b[0mitem\u001b[0m\u001b[0;34m(\u001b[0m\u001b[0;34m)\u001b[0m\u001b[0;34m\u001b[0m\u001b[0;34m\u001b[0m\u001b[0m\n\u001b[1;32m     36\u001b[0m         \u001b[0moptimizer\u001b[0m\u001b[0;34m.\u001b[0m\u001b[0mstep\u001b[0m\u001b[0;34m(\u001b[0m\u001b[0;34m)\u001b[0m\u001b[0;34m\u001b[0m\u001b[0;34m\u001b[0m\u001b[0m\n",
      "\u001b[0;32m/usr/local/lib/python3.8/dist-packages/torch/_tensor.py\u001b[0m in \u001b[0;36mbackward\u001b[0;34m(self, gradient, retain_graph, create_graph, inputs)\u001b[0m\n\u001b[1;32m    361\u001b[0m                 \u001b[0mcreate_graph\u001b[0m\u001b[0;34m=\u001b[0m\u001b[0mcreate_graph\u001b[0m\u001b[0;34m,\u001b[0m\u001b[0;34m\u001b[0m\u001b[0;34m\u001b[0m\u001b[0m\n\u001b[1;32m    362\u001b[0m                 inputs=inputs)\n\u001b[0;32m--> 363\u001b[0;31m         \u001b[0mtorch\u001b[0m\u001b[0;34m.\u001b[0m\u001b[0mautograd\u001b[0m\u001b[0;34m.\u001b[0m\u001b[0mbackward\u001b[0m\u001b[0;34m(\u001b[0m\u001b[0mself\u001b[0m\u001b[0;34m,\u001b[0m \u001b[0mgradient\u001b[0m\u001b[0;34m,\u001b[0m \u001b[0mretain_graph\u001b[0m\u001b[0;34m,\u001b[0m \u001b[0mcreate_graph\u001b[0m\u001b[0;34m,\u001b[0m \u001b[0minputs\u001b[0m\u001b[0;34m=\u001b[0m\u001b[0minputs\u001b[0m\u001b[0;34m)\u001b[0m\u001b[0;34m\u001b[0m\u001b[0;34m\u001b[0m\u001b[0m\n\u001b[0m\u001b[1;32m    364\u001b[0m \u001b[0;34m\u001b[0m\u001b[0m\n\u001b[1;32m    365\u001b[0m     \u001b[0;32mdef\u001b[0m \u001b[0mregister_hook\u001b[0m\u001b[0;34m(\u001b[0m\u001b[0mself\u001b[0m\u001b[0;34m,\u001b[0m \u001b[0mhook\u001b[0m\u001b[0;34m)\u001b[0m\u001b[0;34m:\u001b[0m\u001b[0;34m\u001b[0m\u001b[0;34m\u001b[0m\u001b[0m\n",
      "\u001b[0;32m/usr/local/lib/python3.8/dist-packages/torch/autograd/__init__.py\u001b[0m in \u001b[0;36mbackward\u001b[0;34m(tensors, grad_tensors, retain_graph, create_graph, grad_variables, inputs)\u001b[0m\n\u001b[1;32m    171\u001b[0m     \u001b[0;31m# some Python versions print out the first line of a multi-line function\u001b[0m\u001b[0;34m\u001b[0m\u001b[0;34m\u001b[0m\u001b[0;34m\u001b[0m\u001b[0m\n\u001b[1;32m    172\u001b[0m     \u001b[0;31m# calls in the traceback and some print out the last line\u001b[0m\u001b[0;34m\u001b[0m\u001b[0;34m\u001b[0m\u001b[0;34m\u001b[0m\u001b[0m\n\u001b[0;32m--> 173\u001b[0;31m     Variable._execution_engine.run_backward(  # Calls into the C++ engine to run the backward pass\n\u001b[0m\u001b[1;32m    174\u001b[0m         \u001b[0mtensors\u001b[0m\u001b[0;34m,\u001b[0m \u001b[0mgrad_tensors_\u001b[0m\u001b[0;34m,\u001b[0m \u001b[0mretain_graph\u001b[0m\u001b[0;34m,\u001b[0m \u001b[0mcreate_graph\u001b[0m\u001b[0;34m,\u001b[0m \u001b[0minputs\u001b[0m\u001b[0;34m,\u001b[0m\u001b[0;34m\u001b[0m\u001b[0;34m\u001b[0m\u001b[0m\n\u001b[1;32m    175\u001b[0m         allow_unreachable=True, accumulate_grad=True)  # Calls into the C++ engine to run the backward pass\n",
      "\u001b[0;31mRuntimeError\u001b[0m: CUDA out of memory. Tried to allocate 2.00 MiB (GPU 0; 22.16 GiB total capacity; 19.42 GiB already allocated; 1.88 MiB free; 20.85 GiB reserved in total by PyTorch) If reserved memory is >> allocated memory try setting max_split_size_mb to avoid fragmentation.  See documentation for Memory Management and PYTORCH_CUDA_ALLOC_CONF"
     ]
    }
   ],
   "source": [
    "for epoch in range(1, epochs + 1):\n",
    "    train(epoch)"
   ]
  },
  {
   "cell_type": "code",
   "execution_count": null,
   "metadata": {},
   "outputs": [],
   "source": [
    "\n",
    "plt.figure()\n",
    "plt.plot(train_losses, alpha=1.0, linewidth=1.5, label=\"training_loss\")\n",
    "plt.plot(val_losses, alpha=1.0, linewidth=1.5, label=\"validation_loss\")\n",
    "plt.title('Autoencoder Loss')\n",
    "plt.xlabel('Epochs')\n",
    "plt.ylabel('Loss')\n",
    "plt.legend()\n",
    "plt.legend(loc='upper right')\n",
    "plt.savefig('Loss.png')\n",
    "\n",
    "#fig.tight_layout()\n",
    "#fig.savefig( \"Loss.png\", bbox_inches='tight' )"
   ]
  },
  {
   "cell_type": "markdown",
   "metadata": {},
   "source": [
    "# Visualizing imput vs output"
   ]
  },
  {
   "cell_type": "code",
   "execution_count": null,
   "metadata": {},
   "outputs": [],
   "source": [
    "def plot_heatmap(input, output, label):\n",
    "\n",
    "    input = input.reshape(159,3)\n",
    "    output = output.reshape(159,3)\n",
    "\n",
    "    input = pd.DataFrame(input, columns = [\"pT\",\"eta\",\"phi\"])\n",
    "    input = input.loc[~(input==0).all(axis=1)]\n",
    "    output = pd.DataFrame(output, columns = [\"pT\",\"eta\",\"phi\"])\n",
    "    output = output.loc[~(output==0).all(axis=1)]\n",
    "\n",
    "    fig = plt.figure(figsize=(10,10))\n",
    "    ax = fig.gca(projection='3d')\n",
    "    surf = ax.bar3d(input['eta'],input['phi'],5,0.2,0.2,input['pT'],color='g',shade=True)\n",
    "    in_proxy = plt.Rectangle((0, 0), 1, 1, fc=\"g\")\n",
    "    ax.set_xlim(-4.5,4.5)\n",
    "    ax.set_ylim(-3.2,3.2)\n",
    "    ax.set_xlabel(\"eta\")\n",
    "    ax.set_ylabel(\"phi\")\n",
    "    ax.set_zlabel(\"pT\")\n",
    "    surf2 = ax.bar3d(output['eta'],output['phi'],5,0.2,0.2,output['pT'],shade=True)\n",
    "    out_proxy = plt.Rectangle((0, 0), 1, 1, fc=\"b\")\n",
    "    ax.legend([in_proxy,out_proxy],['input event','AE output event'])\n",
    "    plt.show()\n",
    "    plt.close()"
   ]
  },
  {
   "cell_type": "code",
   "execution_count": null,
   "metadata": {},
   "outputs": [],
   "source": [
    "def plot_heatmap_blue(input, output, label):\n",
    "\n",
    "    input = input.reshape(159,3)\n",
    "    output = output.reshape(159,3)\n",
    "\n",
    "    input = pd.DataFrame(input, columns = [\"pT\",\"eta\",\"phi\"])\n",
    "    input = input.loc[~(input==0).all(axis=1)]\n",
    "    output = pd.DataFrame(output, columns = [\"pT\",\"eta\",\"phi\"])\n",
    "    output = output.loc[~(output==0).all(axis=1)]\n",
    "\n",
    "    fig = plt.figure(figsize=(10,10))\n",
    "    ax = fig.gca(projection='3d')\n",
    "    #surf = ax.bar3d(input['eta'],input['phi'],5,0.2,0.2,input['pT'],color='g',shade=True)\n",
    "    in_proxy = plt.Rectangle((0, 0), 1, 1, fc=\"g\")\n",
    "    ax.set_xlim(-4.5,4.5)\n",
    "    ax.set_ylim(-3.2,3.2)\n",
    "    ax.set_xlabel(\"eta\")\n",
    "    ax.set_ylabel(\"phi\")\n",
    "    ax.set_zlabel(\"pT\")\n",
    "    surf2 = ax.bar3d(output['eta'],output['phi'],5,0.2,0.2,output['pT'],shade=True)\n",
    "    out_proxy = plt.Rectangle((0, 0), 1, 1, fc=\"b\")\n",
    "    ax.legend([in_proxy,out_proxy],['input event','AE output event'])\n",
    "    plt.show()\n",
    "    plt.close()"
   ]
  },
  {
   "cell_type": "code",
   "execution_count": null,
   "metadata": {},
   "outputs": [],
   "source": [
    "def plot_heatmap_green(input, output, label):\n",
    "\n",
    "    input = input.reshape(159,3)\n",
    "    output = output.reshape(159,3)\n",
    "\n",
    "    input = pd.DataFrame(input, columns = [\"pT\",\"eta\",\"phi\"])\n",
    "    input = input.loc[~(input==0).all(axis=1)]\n",
    "    output = pd.DataFrame(output, columns = [\"pT\",\"eta\",\"phi\"])\n",
    "    output = output.loc[~(output==0).all(axis=1)]\n",
    "\n",
    "    fig = plt.figure(figsize=(10,10))\n",
    "    ax = fig.gca(projection='3d')\n",
    "    surf = ax.bar3d(input['eta'],input['phi'],5,0.2,0.2,input['pT'],color='g',shade=True)\n",
    "    in_proxy = plt.Rectangle((0, 0), 1, 1, fc=\"g\")\n",
    "    ax.set_xlim(-4.5,4.5)\n",
    "    ax.set_ylim(-3.2,3.2)\n",
    "    ax.set_xlabel(\"eta\")\n",
    "    ax.set_ylabel(\"phi\")\n",
    "    ax.set_zlabel(\"pT\")\n",
    "    #surf2 = ax.bar3d(output['eta'],output['phi'],5,0.2,0.2,output['pT'],shade=True)\n",
    "    out_proxy = plt.Rectangle((0, 0), 1, 1, fc=\"b\")\n",
    "    ax.legend([in_proxy,out_proxy],['input event','AE output event'])\n",
    "    plt.show()\n",
    "    plt.close()"
   ]
  },
  {
   "cell_type": "code",
   "execution_count": null,
   "metadata": {},
   "outputs": [],
   "source": [
    "n=15\n",
    "\n",
    "\n",
    "yn = yt[n][:,:]\n",
    "print(yn.shape)\n",
    "yn = yn.detach().numpy()\n",
    "xn = xt[n][:,:].detach().numpy()\n",
    "print(xn.shape)"
   ]
  },
  {
   "cell_type": "code",
   "execution_count": null,
   "metadata": {},
   "outputs": [],
   "source": [
    "plot_heatmap(xn[0],yn[0],\"all\")"
   ]
  },
  {
   "cell_type": "code",
   "execution_count": null,
   "metadata": {},
   "outputs": [],
   "source": [
    "plot_heatmap_blue(xn[0],yn[0],\"blue\")"
   ]
  },
  {
   "cell_type": "code",
   "execution_count": null,
   "metadata": {},
   "outputs": [],
   "source": [
    "plot_heatmap_green(xn[0],yn[0],\"green\")"
   ]
  },
  {
   "cell_type": "code",
   "execution_count": null,
   "metadata": {},
   "outputs": [],
   "source": []
  }
 ],
 "metadata": {
  "kernelspec": {
   "display_name": "Python 3 (ipykernel)",
   "language": "python",
   "name": "python3"
  },
  "language_info": {
   "codemirror_mode": {
    "name": "ipython",
    "version": 3
   },
   "file_extension": ".py",
   "mimetype": "text/x-python",
   "name": "python",
   "nbconvert_exporter": "python",
   "pygments_lexer": "ipython3",
   "version": "3.8.10"
  }
 },
 "nbformat": 4,
 "nbformat_minor": 4
}
